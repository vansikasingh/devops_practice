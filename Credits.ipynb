{
  "nbformat": 4,
  "nbformat_minor": 0,
  "metadata": {
    "colab": {
      "name": "Credits.ipynb",
      "provenance": [],
      "collapsed_sections": []
    },
    "kernelspec": {
      "name": "python3",
      "display_name": "Python 3"
    },
    "language_info": {
      "name": "python"
    }
  },
  "cells": [
    {
      "cell_type": "code",
      "execution_count": 4,
      "metadata": {
        "colab": {
          "base_uri": "https://localhost:8080/"
        },
        "id": "Li0r7KMEHcfe",
        "outputId": "5c4bdc21-e0cb-466a-c810-9135f0ab69c2"
      },
      "outputs": [
        {
          "output_type": "stream",
          "name": "stdout",
          "text": [
            "Names of all courses in this semester:\n",
            "1. HPC - 4 \n",
            "2. DevOps - 2 \n",
            "3. SPM - 2 \n",
            "4. EVS - 1 \n",
            "5. Career Skills - 3 \n",
            "6. Communication Skills - 2 \n",
            "7. Seminar on Special Topics - 1 \n",
            "8. Capstone Design - 2 \n",
            "9. Undergraduate Research - 2\n"
          ]
        }
      ],
      "source": [
        "print(\"Names of all courses in this semester:\")\n",
        "print(\"1. HPC - 4 \\n2. DevOps - 2 \\n3. SPM - 2 \\n4. EVS - 1 \\n5. Career Skills - 3 \\n6. Communication Skills - 2 \\n7. Seminar on Special Topics - 1 \\n8. Capstone Design - 2 \\n9. Undergraduate Research - 2\")"
      ]
    }
  ]
}